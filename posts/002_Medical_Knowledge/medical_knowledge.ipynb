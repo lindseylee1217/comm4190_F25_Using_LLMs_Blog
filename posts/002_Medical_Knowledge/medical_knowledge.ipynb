{
 "cells": [
  {
   "cell_type": "raw",
   "id": "46ffdebf-b919-4f93-a3b6-1ff4ebb626ba",
   "metadata": {},
   "source": [
    "---\n",
    "title: \"This is my first post\"\n",
    "description: \"fun first post\" \n",
    "author: \"Lindsey\"\n",
    "date: \"9/3/2025\"\n",
    "categories:\n",
    "  - Puppies\n",
    "  - Icecream\n",
    "---"
   ]
  }
 ],
 "metadata": {
  "kernelspec": {
   "display_name": "Python 3-12 (COMM4190)",
   "language": "python",
   "name": "python3-12_comm4190"
  },
  "language_info": {
   "codemirror_mode": {
    "name": "ipython",
    "version": 3
   },
   "file_extension": ".py",
   "mimetype": "text/x-python",
   "name": "python",
   "nbconvert_exporter": "python",
   "pygments_lexer": "ipython3",
   "version": "3.12.11"
  }
 },
 "nbformat": 4,
 "nbformat_minor": 5
}
