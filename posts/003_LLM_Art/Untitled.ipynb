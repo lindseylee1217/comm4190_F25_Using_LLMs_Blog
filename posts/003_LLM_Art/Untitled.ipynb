{
 "cells": [
  {
   "cell_type": "code",
   "execution_count": null,
   "id": "c15276f7-e70d-4bb2-8bf2-960cbf2b05e3",
   "metadata": {},
   "outputs": [],
   "source": [
    "---\n",
    "title: \"Mad Libs with LLMs: Is it the same?\"\n",
    "description: \"LLMs are renowned for their ability to process, analyze, and generate human language. But now, how do they fare in a game of Mad Libs?\" \n",
    "author: \"Lindsey Lee\"\n",
    "date: \"9/11/2025\"\n",
    "categories:\n",
    "  - LLMs\n",
    "  - Creative\n",
    "  - Fun\n",
    "---"
   ]
  }
 ],
 "metadata": {
  "kernelspec": {
   "display_name": "Python 3-12 (COMM4190)",
   "language": "python",
   "name": "python3-12_comm4190"
  },
  "language_info": {
   "codemirror_mode": {
    "name": "ipython",
    "version": 3
   },
   "file_extension": ".py",
   "mimetype": "text/x-python",
   "name": "python",
   "nbconvert_exporter": "python",
   "pygments_lexer": "ipython3",
   "version": "3.12.11"
  }
 },
 "nbformat": 4,
 "nbformat_minor": 5
}
