{
 "cells": [
  {
   "cell_type": "raw",
   "id": "46ffdebf-b919-4f93-a3b6-1ff4ebb626ba",
   "metadata": {},
   "source": [
    "---\n",
    "title: \"My New Personal Color Analyst: ChatGPT\"\n",
    "description: \"Why spend hundreds of dollars on meeting a stylist to find your color season when you ChatGPT can do it in the comfort of your home? Let's dig deeper.\" \n",
    "author: \"Lindsey Lee\"\n",
    "date: \"9/3/2025\"\n",
    "categories:\n",
    "  - LLMs\n",
    "  - Fashion\n",
    "  - Creative\n",
    "---"
   ]
  },
  {
   "cell_type": "code",
   "execution_count": null,
   "id": "326e682e-9eaa-40cc-8782-f069f87f3e00",
   "metadata": {},
   "outputs": [],
   "source": []
  }
 ],
 "metadata": {
  "kernelspec": {
   "display_name": "Python 3-12 (COMM4190)",
   "language": "python",
   "name": "python3-12_comm4190"
  },
  "language_info": {
   "codemirror_mode": {
    "name": "ipython",
    "version": 3
   },
   "file_extension": ".py",
   "mimetype": "text/x-python",
   "name": "python",
   "nbconvert_exporter": "python",
   "pygments_lexer": "ipython3",
   "version": "3.12.11"
  }
 },
 "nbformat": 4,
 "nbformat_minor": 5
}
